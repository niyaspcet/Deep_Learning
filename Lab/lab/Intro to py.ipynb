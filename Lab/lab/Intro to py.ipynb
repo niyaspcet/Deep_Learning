{
 "cells": [
  {
   "cell_type": "markdown",
   "metadata": {},
   "source": [
    "## Naming Rules\n",
    "• Names are case sensitive and cannot start with a number.\n",
    "They can contain letters, numbers, and underscores.\n",
    "#### bob Bob _bob _2_bob_ bob_2 BoB\n",
    "• There are some reserved words:\n",
    "#### and, assert, break, class, continue, def, del, elif,else, except, exec, finally, for, from, global, if,import, in, is, lambda, not, or, pass, print, raise,return, try, while"
   ]
  },
  {
   "cell_type": "code",
   "execution_count": 1,
   "metadata": {},
   "outputs": [
    {
     "name": "stdout",
     "output_type": "stream",
     "text": [
      "Hello World\n",
      "x= 12\n",
      "Hello, Python!\n"
     ]
    }
   ],
   "source": [
    "x = 34 -23  # A comment.\n",
    "y = 'Hello' # Another one.\n",
    "z = 3.45\n",
    "if z == 3.45 or y == 'Hello':\n",
    "    x = x + 1\n",
    "    y = y + ' World' # String concat.\n",
    "    print(y)\n",
    "    print('x=',x)\n",
    "\n",
    "print('Hello, Python!')\n",
    "  \n"
   ]
  },
  {
   "cell_type": "markdown",
   "metadata": {},
   "source": []
  },
  {
   "cell_type": "code",
   "execution_count": null,
   "metadata": {},
   "outputs": [],
   "source": []
  },
  {
   "cell_type": "code",
   "execution_count": null,
   "metadata": {},
   "outputs": [],
   "source": []
  },
  {
   "cell_type": "code",
   "execution_count": null,
   "metadata": {},
   "outputs": [],
   "source": []
  },
  {
   "cell_type": "code",
   "execution_count": null,
   "metadata": {},
   "outputs": [],
   "source": []
  },
  {
   "cell_type": "code",
   "execution_count": null,
   "metadata": {},
   "outputs": [],
   "source": []
  },
  {
   "cell_type": "code",
   "execution_count": null,
   "metadata": {},
   "outputs": [],
   "source": []
  },
  {
   "cell_type": "code",
   "execution_count": null,
   "metadata": {},
   "outputs": [],
   "source": []
  }
 ],
 "metadata": {
  "kernelspec": {
   "display_name": "Python 3",
   "language": "python",
   "name": "python3"
  },
  "language_info": {
   "codemirror_mode": {
    "name": "ipython",
    "version": 3
   },
   "file_extension": ".py",
   "mimetype": "text/x-python",
   "name": "python",
   "nbconvert_exporter": "python",
   "pygments_lexer": "ipython3",
   "version": "3.5.2"
  }
 },
 "nbformat": 4,
 "nbformat_minor": 2
}
